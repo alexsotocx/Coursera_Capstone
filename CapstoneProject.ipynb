{
 "cells": [
  {
   "cell_type": "markdown",
   "metadata": {},
   "source": [
    "# Deciding which city to move - Coursera Capstone project"
   ]
  },
  {
   "cell_type": "markdown",
   "metadata": {},
   "source": [
    "This repository is used to complete the coursera ibm datascience course."
   ]
  },
  {
   "cell_type": "markdown",
   "metadata": {},
   "source": [
    "## Introducction\n",
    "\n",
    "In this notebook I'm going to compare which city is similar to munich in the intentions to decide which city will be the appropiate to move based on similiarity of venues, things to do and its population.\n",
    "\n",
    "The answer given by this notebook will help me in taking the decision, **Where to start looking for jobs?** and later move to that city.\n",
    "\n",
    "The comparasion will be made between major cities of several countries. Some of them will be listed next:\n",
    "\n",
    "- Munich <- Reference point\n",
    "- Berlin\n",
    "- Hamburg\n",
    "- Düsseldorf\n",
    "- Vienna\n",
    "- Prague\n",
    "- Madrid\n",
    "- Barcelona\n",
    "- Montreal\n",
    "- Toronto\n",
    "- etc."
   ]
  },
  {
   "cell_type": "markdown",
   "metadata": {},
   "source": [
    "## Data to use\n",
    "\n",
    "For this project we will use the [foursquare api](https://foursquare.com/) to investigate which venues are each city center. \n",
    "\n",
    "To compare the population of each city using this dataset from simple maps [World cities population](https://simplemaps.com/data/world-cities).\n",
    "\n",
    "To compare the cost of living in each city, for this we are going to use the [dataset](https://www.numbeo.com/cost-of-living/rankings.jsp) where we will use the the cost of living index to compare each city. For more information please look in the URL https://www.numbeo.com/cost-of-living/rankings.jsp\n",
    "\n",
    "### Foursquare API\n",
    "\n",
    "Foursquare API will be used to extract the point of interest of each city, like restaurants, museums, etc. They are categorized by foursquare, with the categorization it will be used to compare how is the proportion of venues in a city compared to other city. \n",
    "\n",
    "Here an example of the cured data from foursquare\n",
    "\n",
    "<img src=\"https://github.com/alexsotocx/Coursera_Capstone/raw/main/foursquare.png\"/>\n",
    "\n",
    "\n",
    "\n",
    "### Cost of living index\n",
    "\n",
    "From the dataset we can obtain several data but we are interested in the Cost of living index feature, It will allow us to compare each city.\n",
    "\n",
    "Here a explanation of what each variable means:\n",
    "\n",
    "- These indices are relative to New York City (NYC). Which means that for New York City, each index should be 100(%). If another city has, for example, rent index of 120, it means that on an average in that city rents are 20% more expensive than in New York City. If a city has rent index of 70, that means on average rent in that city is 30% less expensive than in New York City.\n",
    "\n",
    "- Cost of Living Index (Excl. Rent) is a relative indicator of consumer goods prices, including groceries, restaurants, transportation and utilities. Cost of Living Index does not include accommodation expenses such as rent or mortgage. If a city has a Cost of Living Index of 120, it means Numbeo has estimated it is 20% more expensive than New York (excluding rent).\n",
    "\n",
    "- Rent Index is an estimation of prices of renting apartments in the city compared to New York City. If Rent index is 80, Numbeo has estimated that price of rents in that city is on average 20% less than the price in New York.\n",
    "\n",
    "- Groceries Index is an estimation of grocery prices in the city compared to New York City. To calculate this section, Numbeo uses weights of items in the \"Markets\" section for each city.\n",
    "\n",
    "- Restaurants Index is a comparison of prices of meals and drinks in restaurants and bars compared to NYC.\n",
    "\n",
    "- Cost of Living Plus Rent Index is an estimation of consumer goods prices including rent comparing to New York City.\n",
    "\n",
    "- Local Purchasing Power shows relative purchasing power in buying goods and services in a given city for the average net salary in that city. If domestic purchasing power is 40, this means that the inhabitants of that city with an average salary can afford to buy on an average 60% less goods and services than New York City residents with an average salary.\n",
    "\n",
    "For more information about used weights (actual formula) please visit [Motivation and Methodology page](https://www.numbeo.com/common/motivation_and_methodology.jsp).\n",
    "\n",
    "#### Example of feature:\n",
    "\n",
    "<img src=\"https://github.com/alexsotocx/Coursera_Capstone/raw/main/cost-of-living.png\"/>\n"
   ]
  },
  {
   "cell_type": "markdown",
   "metadata": {},
   "source": [
    "### World cities population\n",
    "\n",
    "This a dataset is provided from https://simplemaps.com/data/world-cities as free distribution and they have all the rights to it, it will be used to extract the population of the cities and its geoprahical location\n",
    "\n",
    "The population value means how many people live in the city and it's an important factor for me because I simply don't like cities with too many people.\n",
    "\n",
    "I provided a copy of the data set I will use here https://github.com/alexsotocx/Coursera_Capstone/raw/main/world-population-simplemaps/worldcities.csv. But please visit the main website for the updated copy https://simplemaps.com/data/world-cities.\n",
    "\n",
    "I repeat: This dataset belongs to Simplemaps and all the attributions go to them.\n",
    "\n",
    "#### Example\n",
    "\n",
    "<img src=\"https://github.com/alexsotocx/Coursera_Capstone/raw/main/cities-population.png\">"
   ]
  },
  {
   "cell_type": "code",
   "execution_count": null,
   "metadata": {},
   "outputs": [],
   "source": []
  }
 ],
 "metadata": {
  "kernelspec": {
   "display_name": "Python 3",
   "language": "python",
   "name": "python3"
  },
  "language_info": {
   "codemirror_mode": {
    "name": "ipython",
    "version": 3
   },
   "file_extension": ".py",
   "mimetype": "text/x-python",
   "name": "python",
   "nbconvert_exporter": "python",
   "pygments_lexer": "ipython3",
   "version": "3.7.7"
  }
 },
 "nbformat": 4,
 "nbformat_minor": 4
}
