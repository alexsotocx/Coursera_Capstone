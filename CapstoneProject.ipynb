{
 "cells": [
  {
   "cell_type": "markdown",
   "metadata": {},
   "source": [
    "# Deciding which city to move - Coursera Capstone project"
   ]
  },
  {
   "cell_type": "markdown",
   "metadata": {},
   "source": [
    "This repository is used to complete the coursera ibm datascience course."
   ]
  },
  {
   "cell_type": "markdown",
   "metadata": {},
   "source": [
    "## Introducction\n",
    "\n",
    "In this notebook I'm going to compare which city is similar to munich in the intentions to decide which city will be the appropiate to move based on similiarity of venues, things to do and its population.\n",
    "\n",
    "The comparasion will be made between major cities of several countries. Some of them will be listed next:\n",
    "\n",
    "- Munich <- Reference point\n",
    "- Berlin\n",
    "- Hamburg\n",
    "- Düsseldorf\n",
    "- Vienna\n",
    "- Prague\n",
    "- Madrid\n",
    "- Barcelona\n",
    "- Montreal\n",
    "- Toronto\n",
    "- etc."
   ]
  },
  {
   "cell_type": "markdown",
   "metadata": {},
   "source": [
    "## Data to use\n",
    "\n",
    "For this project we will use the [foursquare api](https://foursquare.com/) to investigate which venues are each city center. \n",
    "\n",
    "We are going to compare the population of each city using this dataset from simple maps [World cities population](https://simplemaps.com/data/world-cities).\n",
    "\n",
    "We need to also compare the cost of living in each city, for this we are going to use the [dataset](https://www.numbeo.com/cost-of-living/rankings.jsp) where we will use the the cost of living index to compare each city.\n",
    "\n",
    "\n"
   ]
  }
 ],
 "metadata": {
  "kernelspec": {
   "display_name": "Python 3",
   "language": "python",
   "name": "python3"
  },
  "language_info": {
   "codemirror_mode": {
    "name": "ipython",
    "version": 3
   },
   "file_extension": ".py",
   "mimetype": "text/x-python",
   "name": "python",
   "nbconvert_exporter": "python",
   "pygments_lexer": "ipython3",
   "version": "3.7.7"
  }
 },
 "nbformat": 4,
 "nbformat_minor": 4
}
